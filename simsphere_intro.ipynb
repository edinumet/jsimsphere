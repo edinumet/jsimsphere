{
 "cells": [
  {
   "cell_type": "markdown",
   "metadata": {},
   "source": [
    "<img style=\"float: left;\" src=\"PSU_Logo.png\" alt=\"UoE\" width=\"200px\"/>\n",
    "<img style=\"float: right;\" src=\"UoE_Logo.png\" alt=\"UoE\" width=\"300px\"/>"
   ]
  },
  {
   "cell_type": "markdown",
   "metadata": {},
   "source": [
    "## Week 1 of SVAT Modelling - an Introduction to SimSphere\n",
    "<img style=\"float: right;\" src=\"LAI_Logo.png\" alt=\"Land-Atmosphere Interactions\" width=\"60px\"/></p>\n",
    "## SimSphere - A SVAT Model from Penn State\n",
    "https://simsphere.ems.psu.edu/index.html  \n",
    "Jupyter notebook for ECSC10014 Land-Atmosphere Interactions  \n",
    "author: jbm *for* Session 2020-21  [version 0.13, latest 16:30, 27 Sep 2020]\n",
    "## Background\n",
    "SimSphere is an example of a soil-vegetation-atmosphere transport (SVAT) model and one we have used for many years in Land-Atmosphere Interactions. We normally use a version that runs on the University's servers - indeed if you look on Learn you'll see the practical schedule and worksheets we normally use. This year because of covid restrictions we have moved to a version that works via the web. SimSphere has been developed over 30 years in Professor Toby Carlson's group in the Meteorology Department at Penn State University and they recently released a FORTRAN version of the software which I've  packaged up into this Jupyter Notebook with routines written in python.  You can read all about SimSphere - its history, design and construction at Prof Carlson's web site - https://simsphere.ems.psu.edu/model.html  \n",
    "<img style=\"float: right;\" src=\"structure.png\" alt=\"SimSphere structure\" width=\"300px\"/>\n",
    "What I want you to get out of SimSphere is an appreciation for using simulation models to answer 'what if' questions of the kind we posed in week 1 of the course; if we replace forest with agriculture, what are the impacts on local or regional climate; if we plant trees which in turn reduce soil moisture locally, what impact might this have on boundary-layer development. Toby Carlson's group has a whole handbook posing similar questions which you can have a look at for your own ideas - the workbook is accessible from the 'File' menu above. The Workbook has some some great pointers to experiments you can run with SimSphere - it is nicely written in a conversational (and witty) style.\n",
    "\n",
    "## Imports\n",
    "Let's start by importing some libraries to the environment:\n",
    "- *matplotlib inline* for creating inline plots\n",
    "- *json* to read data files in json format\n",
    "- *pandas* to order and sort data in a convenient Table-like format\n",
    "- *numpy* for numerical routines\n",
    "- *matplotlib* for plotting data\n",
    "- *subprocess* so we can run the model written in FORTRAN\n",
    "- *ipywidgets* for interactivity\n",
    "- *defins* for python code that just takes up space in the main notebook"
   ]
  },
  {
   "cell_type": "code",
   "execution_count": null,
   "metadata": {},
   "outputs": [],
   "source": [
    "#%matplotlib inline\n",
    "import pandas as pd\n",
    "import json\n",
    "from pandas.io.json import json_normalize\n",
    "import numpy as np\n",
    "import matplotlib.pyplot as plt\n",
    "import subprocess\n",
    "from ipywidgets import interact, interactive, fixed, interact_manual\n",
    "import ipywidgets as widgets\n",
    "from ipywidgets import HBox, Label\n",
    "\n",
    "# set some options to begin with here\n",
    "outputvariables=['SWF','NETRAD','SENS','LE','GRF','T50','T10','TFOL','TRAD',\n",
    "                 'W50','W10','WFOL','SH50','SH10','SHFOL','BOW','SMA','RZMA',\n",
    "                 'STMR','VPDEF','LWPOT','EWPOT','GWPOT','CO2F','CO2CAN','WATEFF',\n",
    "                 'O3CAN','GBLO3','O3F','PBLZ']\n",
    "lookup = 'TIME    SWF   NETRAD'   # the first line with column names\n",
    "eb_colours = [ 'yellow', 'red', 'green', 'blue', 'black']\n",
    "eb_labels = ['Shortwave in','Net radiation','Sensible heat flux','Latent heat flux','Ground heat flux']\n",
    "cat_opts = widgets.RadioButtons(\n",
    "    options=['soil', 'vegetation', 'meteorological'],\n",
    "    # value='vegetation',\n",
    "    description='Category:',\n",
    "    disabled=False\n",
    ")\n",
    "soil_opts = widgets.Dropdown(           # model codes\n",
    "    options=[\"soil albedo\",             # albg\n",
    "             \"soil moisture\",           # f\n",
    "             \"root zone moisture\",      # fsub\n",
    "             \"thermal inertia\"],        # ti_a\n",
    "    value=\"soil moisture\",\n",
    "    description='Soil:',\n",
    "    disabled=True,\n",
    ")\n",
    "veg_opts = widgets.Dropdown(\n",
    "    options=[\"fraction covered by vegn\", # frveg\n",
    "             \"vegetation albedo\",        # albf\n",
    "             \"leaf area index\"],         # xlai\n",
    "    value=\"leaf area index\",\n",
    "    description='Vegetation:',\n",
    "    disabled=True,\n",
    ")\n",
    "atm_opts = widgets.Dropdown(\n",
    "    options=[\"roughness length\",         # zo\n",
    "             \"cloud fraction\"],          # cld_fract\n",
    "    value=\"roughness length\",\n",
    "    description='Atmosphere:',\n",
    "    disabled=True,\n",
    ")\n",
    "soil_list=['Soil','albg','f','fsub','ti_a']\n",
    "veg_list=['Vegetation','frveg','albf','xlai']\n",
    "atm_list=['Meteorological','zo','cld_fract']"
   ]
  },
  {
   "cell_type": "markdown",
   "metadata": {},
   "source": [
    "## Step 1: Get familiar with the model"
   ]
  },
  {
   "cell_type": "code",
   "execution_count": null,
   "metadata": {},
   "outputs": [],
   "source": [
    "# First time the model is run, bring in the default input data.\n",
    "# Edit this file in your workspace - DO NOT edit the original file.\n",
    "with open('data/default/i_model.json') as json_file:\n",
    "    data = json.load(json_file)\n",
    "# and put a copy in the current working directory as a copy which can then be edited\n",
    "with open('i_model.json', 'w') as outfile:\n",
    "    json.dump(data,outfile)\n",
    "\n",
    "# Read in the input data so we can modify the parameters\n",
    "df = pd.read_json('i_model.json')\n",
    "\n",
    "# Edit the parameter of interest and run the model. Repeat.\n",
    "\n",
    "ret = subprocess.call([\"./simsphere\"],shell=True)\n",
    "print(\"Run complete\")"
   ]
  },
  {
   "cell_type": "code",
   "execution_count": null,
   "metadata": {},
   "outputs": [],
   "source": [
    "# Find the line number where the output data starts\n",
    "lookup = 'TIME    SWF   NETRAD'   # the first line with column names\n",
    "# Data analysis\n",
    "with open('o_model.dat') as myFile:\n",
    "    for num, line in enumerate(myFile, 1):\n",
    "        if lookup in line:\n",
    "            # print('Output starts at line:', num)\n",
    "            stl = num\n",
    "\n",
    "# can now use Pandas to read in data since this part of the output file is a regular array\n",
    "df2=pd.read_csv('o_model.dat', sep='\\s+',skiprows=stl-1, header=0, skip_blank_lines=True)\n",
    "df2.set_index('TIME')\n",
    "\n",
    "# build a list of variables, colours and labels to plot\n",
    "eb_list = [ df2['SWF'], df2['NETRAD'], df2['SENS'], df2['LE'], df2['GRF'] ]\n",
    "\n",
    "def update():\n",
    "    ax = plt.gca()\n",
    "    # Plot the radiation and energy balance terms\n",
    "    for i in range(len(eb_list)):\n",
    "        eb_list[i].plot(ax=ax, color=eb_colours[i], label=eb_labels[i])\n",
    "        ax.legend()  \n",
    "    ax.set_xlabel('Time')\n",
    "    ax.set_ylabel('Flux density (W m-2)')\n",
    "    ax.set_title('Radiation and Energy Balance', fontsize=14, color='black')   \n",
    "    plt.show()\n",
    "\n",
    "    # Plot the max planetary boundary layer height reached at a particular time over time\n",
    "    ax1 = plt.gca()\n",
    "    df2['PBLZ'].plot(ax=ax1, color='blue')\n",
    "    ax1.legend()\n",
    "    ax1.set_xlabel('Time')\n",
    "    ax1.set_ylabel('Height (m)')\n",
    "    ax1.set_title('PBL depth (m)', fontsize=14, color='black')   \n",
    "    plt.show()\n",
    "\n",
    "    # Plot leaf temperature\n",
    "    ax2 = plt.gca()\n",
    "    df2['TFOL'].plot(ax=ax2, color='red')\n",
    "    ax2.legend()   \n",
    "    ax2.set_xlabel('Time')\n",
    "    ax2.set_ylabel('Foliage Temperature (oC)')\n",
    "    ax2.set_title('Leaf temperature', fontsize=14, color='black')   \n",
    "    plt.show()\n",
    "    \n",
    "update()"
   ]
  },
  {
   "cell_type": "markdown",
   "metadata": {},
   "source": [
    "### Experiments. \n",
    "Now let's change some of the input variables one at a time to see how the PBL depth is affected. This is the same as we did with the Blackadar model last week.  We'll keep it simple this week by specifying a soil type but you are free to alter properties of the soil such as albedo and moisture; and  properties of the vegetation such as albedo, leaf area index and vegetation fraction. You can change meteorological properties such as surface roughness and cloudiness also."
   ]
  },
  {
   "cell_type": "markdown",
   "metadata": {},
   "source": [
    "### Inputs to the model. \n",
    "You might be asking - what are the input values that could go into the model anyway? Well, run the cell below to see what driving variables are in the model and what upper and lower limits these variables can have in your model."
   ]
  },
  {
   "cell_type": "code",
   "execution_count": null,
   "metadata": {},
   "outputs": [],
   "source": [
    "inputparams_df = pd.read_excel(\"./Part IV; model input parameters.xlsx\", 'input variables', skiprows=1,nrows=51)\n",
    "#inpars = inputparams_df.to_dict(\"records\")\n",
    "inputparams_df"
   ]
  },
  {
   "cell_type": "markdown",
   "metadata": {},
   "source": [
    " ### What you should do:  \n",
    "Lets make some simple changes to ONE of the driving input variables and see what happens to fluxes and the mixing layer. I'll leave it to you and your group to decide what to explore - just use the selection boxes below - but just choose *one* thing to change systematically for the moment.  We'll be doing a proper sensitivity experiment starting in week 5 of the course and you'll be exploring all of this in more detail for your intermittent assessment.  \n",
    "\n",
    "Make some changes to the Soil, Vegetation or Atmosphere via the dropdown boxes below to see how the land-atmosphere system reacts. Use the slider to select a value of one of the driving variables and run the model. repeat this process until you see a pattern emerging and you can explain the results you see."
   ]
  },
  {
   "cell_type": "code",
   "execution_count": null,
   "metadata": {},
   "outputs": [],
   "source": [
    "output=widgets.Output()\n",
    "display(cat_opts,output)\n",
    "display(soil_opts,output)\n",
    "display(veg_opts,output)\n",
    "display(atm_opts,output)\n",
    "drv_opts=[soil_opts,veg_opts,atm_opts]\n",
    "\n",
    "def on_value_change(change):\n",
    "    with output:\n",
    "        pass\n",
    "\n",
    "cat_opts.observe(on_value_change, names='value')\n",
    "soil_opts.observe(on_value_change, names='value')\n",
    "veg_opts.observe(on_value_change, names='value')\n",
    "atm_opts.observe(on_value_change, names='value')\n"
   ]
  },
  {
   "cell_type": "code",
   "execution_count": null,
   "metadata": {},
   "outputs": [],
   "source": [
    "cat_opts.value\n",
    "cat_opt=cat_opts.options.index(cat_opts.value)\n",
    "\n",
    "if cat_opt==0:\n",
    "    soil_opts.disabled=False\n",
    "    veg_opts.disabled=True\n",
    "    atm_opts.disabled=True\n",
    "elif cat_opt==1:\n",
    "    soil_opts.disabled=True\n",
    "    veg_opts.disabled=False\n",
    "    atm_opts.disabled=True\n",
    "else:\n",
    "    soil_opts.disabled=True\n",
    "    veg_opts.disabled=True\n",
    "    atm_opts.disabled=False\n",
    "    \n",
    "#soil_opts.value\n",
    "# Record index of surface driver selected\n",
    "soil_opt=soil_opts.options.index(soil_opts.value)\n",
    "#print(soil_opt)\n",
    "veg_opts.value\n",
    "# Record index of surface driver selected\n",
    "veg_opt=veg_opts.options.index(veg_opts.value)\n",
    "atm_opts.value\n",
    "# Record index of surface driver selected\n",
    "atm_opt=atm_opts.options.index(atm_opts.value)\n",
    "\n",
    "if cat_opt==0:\n",
    "    listtouse=soil_list\n",
    "    opt=soil_opt\n",
    "elif cat_opt==1:\n",
    "    listtouse=veg_list\n",
    "    opt=veg_opt\n",
    "else:\n",
    "    listtouse=atm_list\n",
    "    opt=atm_opt\n",
    "\n",
    "df_final = inputparams_df.loc[inputparams_df['Category'].eq(listtouse[0]) &\n",
    "                             inputparams_df['Name'].eq(listtouse[opt+1]), \n",
    "                             ['Long Name','default value', 'lower', 'upper']]\n",
    "print(df_final)\n",
    "# Build a slider relevant to the option chosen eg leaf, area index, soil moisture etc\n",
    "# and with default value and lower/upper limits prescribed\n",
    "#style = {'description_width': 'initial'}\n",
    "slider = widgets.FloatSlider(\n",
    "    value=df_final['default value'],\n",
    "    min=df_final['lower'],\n",
    "    max=df_final['upper'],\n",
    "    step=0.1,\n",
    "    description=str(df_final['Long Name']),\n",
    "    disabled=False,\n",
    "    continuous_update=False,\n",
    "    orientation='horizontal',\n",
    "    readout=True,\n",
    "    readout_format='.1f',\n",
    "    #style=style,\n",
    ")\n",
    "#label=str(df_final['Long Name'])\n",
    "def on_value_change(change):\n",
    "    pass\n",
    "\n",
    "slider.observe(on_value_change, names='value')\n",
    "display(slider)"
   ]
  },
  {
   "cell_type": "code",
   "execution_count": null,
   "metadata": {},
   "outputs": [],
   "source": [
    "print(slider.value)\n",
    "\n",
    "# Put the new data into the input file and re-run Simsphere\n",
    "\n",
    "data['inputs'][cat_opts.options[cat_opt]][listtouse[opt+1]] = slider.value\n",
    "\n",
    "# put the whole new array back in the i_model.json file so we can re-run the model\n",
    "with open('i_model.json', 'w') as outfile:\n",
    "    json.dump(data,outfile)\n",
    "\n",
    "ret = subprocess.call([\"./simsphere\"],shell=True)\n",
    "print(\"Run complete\")\n",
    "# and display the results\n",
    "\n",
    "# Append relevant output data to a file for graphing once the test has finished\n",
    "# can now use Pandas to read in data since this part of the output file is a regular array\n",
    "df2.iloc[0:0]\n",
    "df2=pd.read_csv('o_model.dat', sep='\\s+',skiprows=stl-1, header=0, skip_blank_lines=True)\n",
    "df2.set_index('TIME')\n",
    "update()\n"
   ]
  },
  {
   "cell_type": "markdown",
   "metadata": {},
   "source": [
    "## Data printout  \n",
    "It can be very useful to print out a selection of the model results rather than trying to eye-ball the figures:"
   ]
  },
  {
   "cell_type": "code",
   "execution_count": null,
   "metadata": {},
   "outputs": [],
   "source": [
    "df4 = df2[['TIME','SWF','NETRAD','SENS','LE','GRF','T10','TFOL','SMA','STMR','VPDEF','PBLZ']]\n",
    "df4.head(36)"
   ]
  },
  {
   "cell_type": "markdown",
   "metadata": {},
   "source": [
    "## Define your own vegetation. \n",
    "We can configure the soil and plant characteristics in more depth - and we may do this later for the intermittent assessment but for now - these are some of the soil and plant physiological parameters which CAN be altered."
   ]
  },
  {
   "cell_type": "code",
   "execution_count": null,
   "metadata": {},
   "outputs": [],
   "source": [
    "customparams_df = pd.read_excel(\"./Part IV; model input parameters.xlsx\", 'input variables, soils & plants', skiprows=1,nrows=22)\n",
    "customparams_df"
   ]
  },
  {
   "cell_type": "markdown",
   "metadata": {},
   "source": [
    "# END"
   ]
  },
  {
   "cell_type": "markdown",
   "metadata": {},
   "source": []
  }
 ],
 "metadata": {
  "kernelspec": {
   "display_name": "Python 3",
   "language": "python",
   "name": "python3"
  },
  "language_info": {
   "codemirror_mode": {
    "name": "ipython",
    "version": 3
   },
   "file_extension": ".py",
   "mimetype": "text/x-python",
   "name": "python",
   "nbconvert_exporter": "python",
   "pygments_lexer": "ipython3",
   "version": "3.8.5"
  }
 },
 "nbformat": 4,
 "nbformat_minor": 4
}
